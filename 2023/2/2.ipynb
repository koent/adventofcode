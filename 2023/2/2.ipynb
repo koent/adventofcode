{
 "cells": [
  {
   "cell_type": "code",
   "execution_count": 14,
   "metadata": {},
   "outputs": [
    {
     "data": {
      "text/plain": [
       "2101"
      ]
     },
     "metadata": {},
     "output_type": "display_data"
    }
   ],
   "source": [
    "from math import *\n",
    "\n",
    "with open('input.txt', 'r') as f:\n",
    "    lines = f.readlines()\n",
    "\n",
    "bag = {'red' : 12, 'green' : 13, 'blue' : 14}\n",
    "\n",
    "impossible_game_ids = set()\n",
    "all_game_ids = set()\n",
    "for line in lines:\n",
    "    idstring, content = line[:-1].split(': ')\n",
    "    id = int(idstring[5:])\n",
    "    all_game_ids.add(id)\n",
    "    for gamestring in content.split('; '):\n",
    "        for draw in gamestring.split(', '):\n",
    "            num, color = draw.split(' ')\n",
    "            num = int(num)\n",
    "            if bag[color] < num:\n",
    "                impossible_game_ids.add(id)\n",
    "\n",
    "possible_game_ids = all_game_ids - impossible_game_ids\n",
    "display(sum(possible_game_ids))"
   ]
  },
  {
   "cell_type": "code",
   "execution_count": 15,
   "metadata": {},
   "outputs": [
    {
     "name": "stdout",
     "output_type": "stream",
     "text": [
      "58269\n"
     ]
    }
   ],
   "source": [
    "power = 0\n",
    "for line in lines:\n",
    "    bag = {'red' : 0, 'green' : 0, 'blue' : 0}\n",
    "    _, content = line[:-1].split(': ')\n",
    "    for gamestring in content.split('; '):\n",
    "        for draw in gamestring.split(', '):\n",
    "            num, color = draw.split(' ')\n",
    "            num = int(num)\n",
    "            bag[color] = max(bag[color], num)\n",
    "    power += prod(bag.values())\n",
    "print(power)"
   ]
  }
 ],
 "metadata": {
  "kernelspec": {
   "display_name": "Python 3",
   "language": "python",
   "name": "python3"
  },
  "language_info": {
   "codemirror_mode": {
    "name": "ipython",
    "version": 3
   },
   "file_extension": ".py",
   "mimetype": "text/x-python",
   "name": "python",
   "nbconvert_exporter": "python",
   "pygments_lexer": "ipython3",
   "version": "3.8.10"
  }
 },
 "nbformat": 4,
 "nbformat_minor": 2
}
