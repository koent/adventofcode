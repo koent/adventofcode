{
 "cells": [
  {
   "cell_type": "code",
   "execution_count": 28,
   "metadata": {},
   "outputs": [
    {
     "name": "stdout",
     "output_type": "stream",
     "text": [
      "251216224\n"
     ]
    }
   ],
   "source": [
    "from math import *\n",
    "\n",
    "with open('input.txt', 'r') as f:\n",
    "    lines = f.readlines()\n",
    "\n",
    "suits = \"23456789TJQKA\"\n",
    "base = len(suits)\n",
    "suit_values = {suits[i]:i for i in range(base)}\n",
    "\n",
    "def value(cards : str) -> int:\n",
    "    lower = sum([suit_values[cards[i]]*base**(4-i) for i in range(5)])\n",
    "\n",
    "    upper = 0\n",
    "    numsuits = [cards.count(suit) for suit in suits]\n",
    "    \n",
    "    if 5 in numsuits:\n",
    "        upper = 6\n",
    "    elif 4 in numsuits:\n",
    "        upper = 5\n",
    "    elif 3 in numsuits and 2 in numsuits:\n",
    "        upper = 4\n",
    "    elif 3 in numsuits:\n",
    "        upper = 3\n",
    "    elif numsuits.count(2) == 2:\n",
    "        upper = 2\n",
    "    elif 2 in numsuits:\n",
    "        upper = 1\n",
    "\n",
    "    return upper*base**5 + lower\n",
    "\n",
    "lines.sort(key=lambda l : value(l[:5]))\n",
    "\n",
    "res = 0\n",
    "for i, line in enumerate(lines):\n",
    "    res += (i + 1) * int(line.split(' ')[1])\n",
    "\n",
    "print(res)\n"
   ]
  },
  {
   "cell_type": "code",
   "execution_count": 32,
   "metadata": {},
   "outputs": [
    {
     "name": "stdout",
     "output_type": "stream",
     "text": [
      "250825971\n"
     ]
    }
   ],
   "source": [
    "from math import *\n",
    "\n",
    "with open('input.txt', 'r') as f:\n",
    "    lines = f.readlines()\n",
    "\n",
    "suits = \"J23456789TQKA\"\n",
    "base = len(suits)\n",
    "suit_values = {suits[i]:i for i in range(base)}\n",
    "\n",
    "def value(cards : str) -> int:\n",
    "    lower = sum([suit_values[cards[i]]*base**(4-i) for i in range(5)])\n",
    "\n",
    "    upper = 0\n",
    "    numsuits = [cards.count(suit) for suit in suits[1:]]\n",
    "    \n",
    "    argmax = 0\n",
    "    m = -1\n",
    "    for i,n in enumerate(numsuits):\n",
    "        if n > m:\n",
    "            argmax = i\n",
    "            m = n\n",
    "    \n",
    "    joker = suits[argmax + 1]\n",
    "\n",
    "    cards2 = cards.replace('J', joker)\n",
    "\n",
    "    numsuits = [cards2.count(suit) for suit in suits[1:]]\n",
    "\n",
    "    if 5 in numsuits:\n",
    "        upper = 6\n",
    "    elif 4 in numsuits:\n",
    "        upper = 5\n",
    "    elif 3 in numsuits and 2 in numsuits:\n",
    "        upper = 4\n",
    "    elif 3 in numsuits:\n",
    "        upper = 3\n",
    "    elif numsuits.count(2) == 2:\n",
    "        upper = 2\n",
    "    elif 2 in numsuits:\n",
    "        upper = 1\n",
    "\n",
    "    return upper*base**5 + lower\n",
    "\n",
    "lines.sort(key=lambda l : value(l[:5]))\n",
    "\n",
    "res = 0\n",
    "for i, line in enumerate(lines):\n",
    "    res += (i + 1) * int(line.split(' ')[1])\n",
    "\n",
    "print(res)\n"
   ]
  }
 ],
 "metadata": {
  "kernelspec": {
   "display_name": "Python 3",
   "language": "python",
   "name": "python3"
  },
  "language_info": {
   "codemirror_mode": {
    "name": "ipython",
    "version": 3
   },
   "file_extension": ".py",
   "mimetype": "text/x-python",
   "name": "python",
   "nbconvert_exporter": "python",
   "pygments_lexer": "ipython3",
   "version": "3.8.10"
  }
 },
 "nbformat": 4,
 "nbformat_minor": 2
}
