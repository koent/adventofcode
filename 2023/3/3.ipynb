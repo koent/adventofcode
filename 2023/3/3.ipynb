{
 "cells": [
  {
   "cell_type": "code",
   "execution_count": 14,
   "metadata": {},
   "outputs": [
    {
     "name": "stdout",
     "output_type": "stream",
     "text": [
      "532331\n"
     ]
    }
   ],
   "source": [
    "from math import *\n",
    "\n",
    "with open('input.txt', 'r') as f:\n",
    "    lines = f.readlines()\n",
    "\n",
    "grid = [line[:-1] for line in lines]\n",
    "\n",
    "h = len(grid)\n",
    "w = len(grid[0])\n",
    "\n",
    "def get_part_number(y, xfrom):\n",
    "    # given this is the first digit of the number\n",
    "    # None if is not a part number\n",
    "    xto = xfrom\n",
    "    while xto < w and grid[y][xto] in '0123456789':\n",
    "        xto += 1\n",
    "    \n",
    "    number = int(grid[y][xfrom:xto])\n",
    "\n",
    "    for y_ in [y-1, y, y+1]:\n",
    "        if 0 <= y_ and y_ < h:\n",
    "            for x_ in range(xfrom-1, xto+1):\n",
    "                if 0 <= x_ and x_ < w:\n",
    "                    if grid[y_][x_] not in '.0123456789':\n",
    "                        return number\n",
    "    return None\n",
    "\n",
    "total_gear_ratio = 0\n",
    "\n",
    "for y, line in enumerate(grid):\n",
    "    x = 0\n",
    "    while x < w:\n",
    "        # print(line, x)\n",
    "        if line[x] in '0123456789':\n",
    "            number = get_part_number(y, x)\n",
    "            # print(number)\n",
    "            if number != None:\n",
    "                total_gear_ratio += number\n",
    "        while x < w and line[x] in '0123456789':\n",
    "            x += 1\n",
    "        x += 1\n",
    "\n",
    "print(total_gear_ratio)\n"
   ]
  },
  {
   "cell_type": "code",
   "execution_count": 27,
   "metadata": {},
   "outputs": [
    {
     "name": "stdout",
     "output_type": "stream",
     "text": [
      "82301120\n"
     ]
    }
   ],
   "source": [
    "from math import *\n",
    "from collections import defaultdict\n",
    "\n",
    "with open('input.txt', 'r') as f:\n",
    "    lines = f.readlines()\n",
    "\n",
    "grid = [line[:-1] for line in lines]\n",
    "\n",
    "h = len(grid)\n",
    "w = len(grid[0])\n",
    "\n",
    "def get_part_number(y, xfrom):\n",
    "    # given this is the first digit of the number\n",
    "    # None if is not a part number\n",
    "    xto = xfrom\n",
    "    while xto < w and grid[y][xto] in '0123456789':\n",
    "        xto += 1\n",
    "    \n",
    "    number = int(grid[y][xfrom:xto])\n",
    "\n",
    "    for y_ in [y-1, y, y+1]:\n",
    "        if 0 <= y_ and y_ < h:\n",
    "            for x_ in range(xfrom-1, xto+1):\n",
    "                if 0 <= x_ and x_ < w:\n",
    "                    if grid[y_][x_] == '*':\n",
    "                        return number, (x_, y_)\n",
    "    return None\n",
    "\n",
    "gears = defaultdict(list)\n",
    "\n",
    "for y, line in enumerate(grid):\n",
    "    x = 0\n",
    "    while x < w:\n",
    "        # print(line, x)\n",
    "        if line[x] in '0123456789':\n",
    "            output = get_part_number(y, x)\n",
    "            if output != None:\n",
    "                number, gearloc = output\n",
    "                # print(gearloc, number)\n",
    "                gears[gearloc].append(number)\n",
    "        while x < w and line[x] in '0123456789':\n",
    "            x += 1\n",
    "        x += 1\n",
    "\n",
    "\n",
    "\n",
    "total_gear_ratio = 0\n",
    "\n",
    "for loc in gears.keys():\n",
    "    numbers = gears[loc]\n",
    "    if len(numbers) == 2:\n",
    "        # print(loc, numbers)\n",
    "        total_gear_ratio += numbers[0] * numbers[1]\n",
    "\n",
    "\n",
    "\n",
    "print(total_gear_ratio)\n"
   ]
  }
 ],
 "metadata": {
  "kernelspec": {
   "display_name": "Python 3",
   "language": "python",
   "name": "python3"
  },
  "language_info": {
   "codemirror_mode": {
    "name": "ipython",
    "version": 3
   },
   "file_extension": ".py",
   "mimetype": "text/x-python",
   "name": "python",
   "nbconvert_exporter": "python",
   "pygments_lexer": "ipython3",
   "version": "3.8.10"
  }
 },
 "nbformat": 4,
 "nbformat_minor": 2
}
